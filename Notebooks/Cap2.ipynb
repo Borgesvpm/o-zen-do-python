{
  "nbformat": 4,
  "nbformat_minor": 0,
  "metadata": {
    "colab": {
      "provenance": []
    },
    "kernelspec": {
      "name": "python3",
      "display_name": "Python 3"
    },
    "language_info": {
      "name": "python"
    }
  },
  "cells": [
    {
      "cell_type": "markdown",
      "source": [
        "1. Faça um programa que pergunta a idade do usuário e retorna se ele é um bebê, criança, adolescente, adulto ou idoso."
      ],
      "metadata": {
        "id": "blpGNxygh9od"
      }
    },
    {
      "cell_type": "code",
      "source": [],
      "metadata": {
        "id": "MjsUMKvEiWyv"
      },
      "execution_count": null,
      "outputs": []
    },
    {
      "cell_type": "markdown",
      "source": [
        "2. Peça ao usuário uma letra, e retorne se a letra foi uma vogal ou consoante."
      ],
      "metadata": {
        "id": "raycrCBXh9q5"
      }
    },
    {
      "cell_type": "code",
      "source": [],
      "metadata": {
        "id": "8_mGNDJ0iXNs"
      },
      "execution_count": null,
      "outputs": []
    },
    {
      "cell_type": "markdown",
      "source": [
        "3. Peça ao usuário um número, e informe se aquele número é:\n",
        "- par ou ímpar;\n",
        "- positivo ou negativo;\n",
        "- inteiro ou racional\n"
      ],
      "metadata": {
        "id": "FKTo0_2Kh9tQ"
      }
    },
    {
      "cell_type": "code",
      "source": [],
      "metadata": {
        "id": "M_ShN8HpiXki"
      },
      "execution_count": null,
      "outputs": []
    },
    {
      "cell_type": "markdown",
      "source": [
        "4. Faça um Programa para leitura de três notas parciais de um aluno. O programa deve calcular a média alcançada por aluno e apresentar:\n",
        "- A mensagem \"Aprovado\", se a média for maior ou igual a 7, com a respectiva média alcançada;\n",
        "- A mensagem \"Reprovado\", se a média for menor do que 7, com a respectiva média alcançada;\n",
        "- A mensagem \"Aprovado com Distinção\", se a média for igual a 10."
      ],
      "metadata": {
        "id": "S8iKGkuPh9vw"
      }
    },
    {
      "cell_type": "code",
      "source": [],
      "metadata": {
        "id": "Kj4ab1hEiYDI"
      },
      "execution_count": null,
      "outputs": []
    },
    {
      "cell_type": "markdown",
      "source": [
        "5. Faça um programa que jogue pedra-papel-tesoura com o usuário.\n",
        "- O usuário escolhe pedra, papel ou tesoura\n",
        "- O computador aleatoriamente escolhe pedra, papel ou tesoura (dica: pesquise sobre `random.choice`)\n",
        "- Retorne a mensagem se o usuário ganhou, perdeu ou se deu empate."
      ],
      "metadata": {
        "id": "-nKUN_kAh9yG"
      }
    },
    {
      "cell_type": "code",
      "source": [],
      "metadata": {
        "id": "p1Why8A4iYUW"
      },
      "execution_count": null,
      "outputs": []
    },
    {
      "cell_type": "markdown",
      "source": [
        "6. Faça um programa no qual o usuário pode digitar um número de 3 dígitos. Retorne o número de centenas, dezenas e unidades daquele número. Por exemplo, o usuário digitar o número 237, a saída deve ser algo como:\n",
        "```\n",
        "> O seu número possui 2 centenas, 3 dezenas e 7 unidades\n",
        "```"
      ],
      "metadata": {
        "id": "1dfod5aZh90n"
      }
    },
    {
      "cell_type": "code",
      "source": [],
      "metadata": {
        "id": "Ti2nHE8NiY1_"
      },
      "execution_count": null,
      "outputs": []
    },
    {
      "cell_type": "markdown",
      "source": [
        "7. Peça ao usuário um número de 5 dígitos. Some todos os dígitos que forem pares. Por exemplo: se o usuário escrever 21376, você deve saída deveria ser:\n",
        "\n",
        "```\n",
        "> A soma dos elementos pares do seu número é igual a 8.\n",
        "```"
      ],
      "metadata": {
        "id": "zX511IO-h92m"
      }
    },
    {
      "cell_type": "code",
      "source": [],
      "metadata": {
        "id": "gj572FoXiZRT"
      },
      "execution_count": null,
      "outputs": []
    },
    {
      "cell_type": "markdown",
      "source": [
        "# Projetos para você fazer!\n",
        "\n",
        "1. Faça uma calculadora completa de IMC: Peça ao usuário seu peso e altura. Tenha a opção de duas unidade de peso (kg e libras) e duas unidades de altura (metros e pés+polegadas). Calcule o IMC e mostre uma mensagem de saída, usando a seguinte lógica:\n",
        "- Caso o IMC resultante seja menor que 18.5, a pessoa está abaixo do peso saudável.\n",
        "- Caso o IMC resultante esteja entre 18.5 e 25, a pessoa está com o peso saudável.\n",
        "- Caso o IMC resultante esteja entre 25 e 30, a pessoa está acima do peso saudável\n",
        "- Caso o IMC resultante esteja entre 30 e 35, a pessoa está obesa.\n",
        "- Caso o IMC resultante esteja  maior que 35, a pessoa está com obesidade mórbida.\n",
        "\n",
        "**Bônus**: caso o IMC seja um valor inesperado (e.g. um valor negativo ou acima de 100), mostre uma mensagem de erro e peça para o usuário tentar novamente."
      ],
      "metadata": {
        "id": "0F3imfish94h"
      }
    },
    {
      "cell_type": "code",
      "source": [],
      "metadata": {
        "id": "niKdScdniZyd"
      },
      "execution_count": null,
      "outputs": []
    },
    {
      "cell_type": "markdown",
      "source": [
        "2. Faça um jogo no qual o usuário precisa rolar um dado D6 para matar um dragão. Para cada um dos resultados do dado, forneça uma história do que acontecerá. Por exemplo, se o usuário rolar um `1`, ele falhou miseravelmente; se ele rolar um `6`, ele matou o dragão com apenas um golpe de suas mãos após dar um mortal carpado."
      ],
      "metadata": {
        "id": "iVt6QhWsiSCS"
      }
    },
    {
      "cell_type": "code",
      "source": [],
      "metadata": {
        "id": "qcoMzF-3iaHq"
      },
      "execution_count": null,
      "outputs": []
    }
  ]
}