{
  "nbformat": 4,
  "nbformat_minor": 0,
  "metadata": {
    "colab": {
      "provenance": []
    },
    "kernelspec": {
      "name": "python3",
      "display_name": "Python 3"
    },
    "language_info": {
      "name": "python"
    }
  },
  "cells": [
    {
      "cell_type": "markdown",
      "source": [
        "# Projetos\n",
        "1. Faça uma interface gráfica em que o usuário pode escolher o número de lados de um dado e o programa mostra um número aleatório entre 1 e o número escolhido.\n"
      ],
      "metadata": {
        "id": "ZWbkLTs3oY1y"
      }
    },
    {
      "cell_type": "code",
      "source": [],
      "metadata": {
        "id": "Dhv99OVDohA4"
      },
      "execution_count": null,
      "outputs": []
    },
    {
      "cell_type": "markdown",
      "source": [
        "2. Faça uma interface gráfica com um número no centro e dois botões, um de cada lado: um botão + no lado direito, para acrescer o número e - no lado esquerdo, para decrescer o número. Quando o número for múltiplo de 4, mostre a mensagem: \"Parabéns! O seu número é múltiplo de 4.\"\n"
      ],
      "metadata": {
        "id": "__jm6QLHoYYw"
      }
    },
    {
      "cell_type": "code",
      "source": [],
      "metadata": {
        "id": "V5fUnftnohYU"
      },
      "execution_count": null,
      "outputs": []
    },
    {
      "cell_type": "markdown",
      "source": [
        "3. Faça um aplicativo de timer. O usuário define um tempo em minutos e aperta um botão para iniciar – que começa a decrescer o tempo a cada segundo. Quando o tempo chega a 00:00, você toca um som de alarme. Dica: use a biblioteca playsound para tocar o som.\n"
      ],
      "metadata": {
        "id": "CTYewGw2oYbo"
      }
    },
    {
      "cell_type": "code",
      "source": [],
      "metadata": {
        "id": "fNXu8ps_oh32"
      },
      "execution_count": null,
      "outputs": []
    },
    {
      "cell_type": "markdown",
      "source": [
        "4. Faça uma interface gráfica com dois programas divididos em duas abas: na primeira aba, o usuário pode escolher entre um menu de restaurante (usando botões, dropdowns e checkboxes). Na segunda aba, ele vê o preço total de seu pedido e tem um botão para confirmar o pedido – quando o usuário aperta o botão, ele recebe uma mensagem, usando um pop-up, confirmando o pedido.\n"
      ],
      "metadata": {
        "id": "lpF6NSPxoYeb"
      }
    },
    {
      "cell_type": "code",
      "source": [],
      "metadata": {
        "id": "ZptQ8DtUoiK0"
      },
      "execution_count": null,
      "outputs": []
    },
    {
      "cell_type": "markdown",
      "source": [
        "5. Faça uma interface gráfica com as funcionalidades de uma calculadora."
      ],
      "metadata": {
        "id": "-xBFDLFuoYlO"
      }
    },
    {
      "cell_type": "code",
      "source": [],
      "metadata": {
        "id": "oqCXOc91oimu"
      },
      "execution_count": null,
      "outputs": []
    }
  ]
}