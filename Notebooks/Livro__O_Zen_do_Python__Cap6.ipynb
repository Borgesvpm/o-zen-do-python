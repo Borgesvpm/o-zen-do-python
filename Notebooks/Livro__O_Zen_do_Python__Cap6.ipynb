{
  "nbformat": 4,
  "nbformat_minor": 0,
  "metadata": {
    "colab": {
      "provenance": []
    },
    "kernelspec": {
      "name": "python3",
      "display_name": "Python 3"
    },
    "language_info": {
      "name": "python"
    }
  },
  "cells": [
    {
      "cell_type": "markdown",
      "source": [
        "# Projetos\n",
        "1) Desenhe um hexágono, com cada lado de uma cor diferente.\n"
      ],
      "metadata": {
        "id": "Hw0CwXggneGh"
      }
    },
    {
      "cell_type": "code",
      "source": [],
      "metadata": {
        "id": "MEPjmCDQnksg"
      },
      "execution_count": null,
      "outputs": []
    },
    {
      "cell_type": "markdown",
      "source": [
        "2) Desenhe um triângulo e, em cada vértice, escreva seu nome.\n"
      ],
      "metadata": {
        "id": "q93w0YsVnfwU"
      }
    },
    {
      "cell_type": "code",
      "source": [],
      "metadata": {
        "id": "d0Dzu8WInlCq"
      },
      "execution_count": null,
      "outputs": []
    },
    {
      "cell_type": "markdown",
      "source": [
        "3) Desenhe um retângulo usando a função goto() e faça cada lado ter uma cor diferente.\n"
      ],
      "metadata": {
        "id": "8uqtSON2ngyL"
      }
    },
    {
      "cell_type": "code",
      "source": [],
      "metadata": {
        "id": "c5X8gHRRnlxK"
      },
      "execution_count": null,
      "outputs": []
    },
    {
      "cell_type": "markdown",
      "source": [
        "4) Faça um programa em que a tartaruga está em um loop infinito e, a cada passo, a tarturuga tem 50% de chance de ir para um ponto aleatório do papel e 50% de chance de apagar o seu último passo.\n"
      ],
      "metadata": {
        "id": "iYyA1QnWnhxV"
      }
    },
    {
      "cell_type": "code",
      "source": [],
      "metadata": {
        "id": "MtHkjkvPnmEQ"
      },
      "execution_count": null,
      "outputs": []
    },
    {
      "cell_type": "markdown",
      "source": [
        "5) Faça um programa na qual o usuário é pedido por uma cor e, apenas quando ele der a resposta, uma nova linha aleatória é desenhada no papel com a cor escolhida.\n"
      ],
      "metadata": {
        "id": "bnVTY_B8nikU"
      }
    },
    {
      "cell_type": "code",
      "source": [],
      "metadata": {
        "id": "UcIO0r4inmdO"
      },
      "execution_count": null,
      "outputs": []
    },
    {
      "cell_type": "markdown",
      "source": [
        "6) Faça um jogo da velha usando o Turtle."
      ],
      "metadata": {
        "id": "xg03gxFGnipA"
      }
    },
    {
      "cell_type": "code",
      "source": [],
      "metadata": {
        "id": "wwkfOSzRnm6p"
      },
      "execution_count": null,
      "outputs": []
    }
  ]
}