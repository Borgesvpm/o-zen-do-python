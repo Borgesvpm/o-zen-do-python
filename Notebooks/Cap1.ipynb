{
  "nbformat": 4,
  "nbformat_minor": 0,
  "metadata": {
    "colab": {
      "provenance": []
    },
    "kernelspec": {
      "name": "python3",
      "display_name": "Python 3"
    },
    "language_info": {
      "name": "python"
    }
  },
  "cells": [
    {
      "cell_type": "markdown",
      "source": [
        "# Exercícios"
      ],
      "metadata": {
        "id": "8dVSzGE6hkZx"
      }
    },
    {
      "cell_type": "markdown",
      "source": [
        "Peça ao usuário o seu nome, e imprima uma mensagem de boas-vindas."
      ],
      "metadata": {
        "id": "QR-9RgmshmNN"
      }
    },
    {
      "cell_type": "code",
      "source": [],
      "metadata": {
        "id": "Nl9eNWMGhvFy"
      },
      "execution_count": null,
      "outputs": []
    },
    {
      "cell_type": "markdown",
      "source": [
        "Peça ao usuário sua idade e diga quantos anos ele terá daqui a 50 anos."
      ],
      "metadata": {
        "id": "9dHbTjQNhvMJ"
      }
    },
    {
      "cell_type": "code",
      "source": [],
      "metadata": {
        "id": "gzAwX6D-h1NT"
      },
      "execution_count": null,
      "outputs": []
    },
    {
      "cell_type": "markdown",
      "source": [
        "Peça ao usuário sua idade e imprima em qual ano ele terá 100 anos."
      ],
      "metadata": {
        "id": "fYR1nZPVh1U7"
      }
    },
    {
      "cell_type": "code",
      "source": [],
      "metadata": {
        "id": "fMBMcXHUh69D"
      },
      "execution_count": null,
      "outputs": []
    },
    {
      "cell_type": "markdown",
      "source": [
        "Peça ao usuário um texto e imprima o mesmo texto ao contrário."
      ],
      "metadata": {
        "id": "vHtDwTTdjDTN"
      }
    },
    {
      "cell_type": "code",
      "source": [],
      "metadata": {
        "id": "SZmvXJTOjLWs"
      },
      "execution_count": null,
      "outputs": []
    },
    {
      "cell_type": "markdown",
      "source": [
        "Peça ao usuário seu nome completo e imprima seu primeiro nome e último sobrenome."
      ],
      "metadata": {
        "id": "EjNTNg7ZjLeK"
      }
    },
    {
      "cell_type": "code",
      "source": [],
      "metadata": {
        "id": "A73j6L4tkFGD"
      },
      "execution_count": null,
      "outputs": []
    },
    {
      "cell_type": "markdown",
      "source": [
        "Substitua o nome Romeu na passagem abaixo pelo seu próprio nome."
      ],
      "metadata": {
        "id": "OYM8hsozkFVS"
      }
    },
    {
      "cell_type": "code",
      "source": [
        "passagem = \"Oh, onde esta Romeu?...Quieto, perdi eu mesmo, não estou aqui e não sou Romeu. \"\\\n",
        "           \"Romeu, Romeu? Por que és Romeu? Renega teu pai e abdica de teu nome; \"\\\n",
        "           \"ou se não o quiseres, jura me amar e não serei mais um Capuleto\""
      ],
      "metadata": {
        "colab": {
          "base_uri": "https://localhost:8080/"
        },
        "id": "A9E13Xpokk2N",
        "outputId": "2ae195f5-3806-40f3-9751-cac002081e4c"
      },
      "execution_count": null,
      "outputs": [
        {
          "output_type": "stream",
          "name": "stdout",
          "text": [
            "Oh, onde esta Romeu?...Quieto, perdi eu mesmo, não estou aqui e não sou Romeu. Romeu, Romeu? Por que és Romeu? Renega teu pai e abdica de teu nome; ou se não o quiseres, jura me amar e não serei mais um Capuleto\n"
          ]
        }
      ]
    },
    {
      "cell_type": "markdown",
      "source": [
        "# Projetos"
      ],
      "metadata": {
        "id": "RTtijnVCloGS"
      }
    },
    {
      "cell_type": "markdown",
      "source": [
        " Faça um programa de cronômetro, no qual o usuário aperta o botão Enter uma vez para começar e uma segunda vez para parar – no final recebendo a informação de quanto tempo ele levou para finalizar uma tarefa. Esse programa pode ser usado, por exemplo, para quem quer resolver um cubo mágico de maneira cronometrada."
      ],
      "metadata": {
        "id": "u4qQ0CTblqTB"
      }
    },
    {
      "cell_type": "code",
      "source": [],
      "metadata": {
        "id": "yT4TAWYbl4Fc"
      },
      "execution_count": null,
      "outputs": []
    },
    {
      "cell_type": "markdown",
      "source": [
        "Faça uma calculadora de IMC (Índice de massa corporal), em que o usuário informa seu peso e altura. O IMC é calculado como:\n",
        "\n",
        "$\\frac{Peso}{Altura^2}$\n",
        "\n",
        "Imprima o resultado do IMC para o usuário, incluindo a seguinte informação:\n",
        "- Se o IMC estiver abaixo ou for igual a 25, a pessoa está com o peso saudável\n",
        "- Se o IMC estiver acima de 25, a pessoa está acima do peso ideal\n",
        "\n",
        "Dica: pesquise sobre condicionais `if` no Python."
      ],
      "metadata": {
        "id": "RLf3j4bKB79N"
      }
    },
    {
      "cell_type": "code",
      "source": [],
      "metadata": {
        "id": "ZLzxB4fEB8Df"
      },
      "execution_count": null,
      "outputs": []
    },
    {
      "cell_type": "markdown",
      "source": [
        "Faça um jogo de datilografia: uma palavra aleatória aparece, e o jogador deve digitá-la o mais rápido possível.\n",
        "\n",
        "  - Se a palavra digitada for igual à palavra apresentada, mostre o tempo que o jogador levou para digitá-la e avance para a próxima palavra.\n",
        "\n",
        "  - Se a palavra digitada for diferente à palavra apresentada, mostre uma mensagem de erro e encerre o programa.\n",
        "\n",
        "Bônus: Toque um som positivo quando o usuário acertar a palavra e\n",
        "um som negativo quando o usuário errar (pesquise pela biblioteca `playsound`)."
      ],
      "metadata": {
        "id": "l8Lth81mB8Io"
      }
    },
    {
      "cell_type": "code",
      "source": [],
      "metadata": {
        "id": "WH6eBSsXB8NY"
      },
      "execution_count": null,
      "outputs": []
    }
  ]
}