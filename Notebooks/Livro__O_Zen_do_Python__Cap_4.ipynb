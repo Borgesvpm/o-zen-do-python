{
  "nbformat": 4,
  "nbformat_minor": 0,
  "metadata": {
    "colab": {
      "provenance": []
    },
    "kernelspec": {
      "name": "python3",
      "display_name": "Python 3"
    },
    "language_info": {
      "name": "python"
    }
  },
  "cells": [
    {
      "cell_type": "markdown",
      "source": [
        "1. Imprima todos os números entre 0 e 100 (incluindo o 100)."
      ],
      "metadata": {
        "id": "7kTlUb0Hj8gY"
      }
    },
    {
      "cell_type": "code",
      "source": [],
      "metadata": {
        "id": "8QGA4QZ0lHI_"
      },
      "execution_count": null,
      "outputs": []
    },
    {
      "cell_type": "markdown",
      "source": [
        "2. Imprima todos os números pares entre 0 e 200 (incluindo o 200)."
      ],
      "metadata": {
        "id": "MFw7GAGej8io"
      }
    },
    {
      "cell_type": "code",
      "source": [],
      "metadata": {
        "id": "67b_tiMulHca"
      },
      "execution_count": null,
      "outputs": []
    },
    {
      "cell_type": "markdown",
      "source": [
        "3. Desenvolva um gerador de tabuada, capaz de gerar a tabuada de qualquer número inteiro entre 1 a 10. O usuário deve informar de qual numero ele deseja ver a tabuada."
      ],
      "metadata": {
        "id": "8q4RhKvcj8k1"
      }
    },
    {
      "cell_type": "code",
      "source": [],
      "metadata": {
        "id": "ApAG-FMslHxK"
      },
      "execution_count": null,
      "outputs": []
    },
    {
      "cell_type": "markdown",
      "source": [
        "4. Faça um programa no qual o usuário possa colocar um texto de uma fita de DNA e o seu programa imprime sua fita complementar.\n",
        "\n",
        "- A letra complementar de A é T, e vice-versa\n",
        "- A letra complementar de C é G, e vice-versa\n",
        "\n",
        "Exemplo: para o `input` AGCT, a saída deve ser:\n",
        "```\n",
        "> TCGA\n",
        "```"
      ],
      "metadata": {
        "id": "5Ae3-sawj8nU"
      }
    },
    {
      "cell_type": "code",
      "source": [],
      "metadata": {
        "id": "CtUkY1EIlILw"
      },
      "execution_count": null,
      "outputs": []
    },
    {
      "cell_type": "markdown",
      "source": [
        "5. Para cada um dos funcionários abaixo, faça um loop no qual você imprime seus respectivos nomes e quanto eles ganham por mês após impostos, que é equivalente ao valor disponível menos 30\\%.\n",
        "\n",
        "```python\n",
        "empregados = [\n",
        "    (\"Rolf Smith\", 35, 8000), # nome, idade, salário pré-impostos\n",
        "    (\"Anne Pun\", 30, 12000),\n",
        "    (\"Charlie Lee\", 50, 18000),\n",
        "    (\"Bob Smith\", 20, 5000)]\n",
        "```"
      ],
      "metadata": {
        "id": "qFYiMbFvj8pj"
      }
    },
    {
      "cell_type": "code",
      "source": [],
      "metadata": {
        "id": "N97YtdwxlIti"
      },
      "execution_count": null,
      "outputs": []
    },
    {
      "cell_type": "markdown",
      "source": [
        "6. A série de Fibonacci é formada pela seqüência 1,1,2,3,5,8,13,21... Na qual cada novo elemento da sequência é dado pela soma dos dois elementos anteriores. Gere um programa que faça a sequência de Fibonacci até o número 1597."
      ],
      "metadata": {
        "id": "6CvCM0DWj8rj"
      }
    },
    {
      "cell_type": "code",
      "source": [],
      "metadata": {
        "id": "4Rj-zD1LlJJx"
      },
      "execution_count": null,
      "outputs": []
    },
    {
      "cell_type": "markdown",
      "source": [
        "7. Faça um jogo de fizz-buzz.\n",
        "- Gere números de 1-100\n",
        "- Se o número for múltiplo de 3, imprima 'Fizz'\n",
        "- Se o número for múltiplo de 7, imprima 'Buzz'\n",
        "- Se o número for múltiplo de 3 e 7, imprima 'FizzBuzz'\n",
        "- Se o número não for múltiplo de 3 ou 7, imprima o número normalmente"
      ],
      "metadata": {
        "id": "rWFTzPNpj8tt"
      }
    },
    {
      "cell_type": "code",
      "source": [],
      "metadata": {
        "id": "eHANnqc-lJq0"
      },
      "execution_count": null,
      "outputs": []
    },
    {
      "cell_type": "markdown",
      "source": [
        "8. Faça um programa que calcule a persistência multiplicativa de um número. A persistência multiplicativa é o número de vezes que eu consigo multiplicar todos os dígitos de um número antes de chegar em um número de apenas um dígito.\n",
        "- Por exemplo, a persistência multiplicativa de 3497 seria dada a seguir:\n",
        "- 3497 → 3x4x9x7 → 756 (passo 1)\n",
        "- 756 → 7x5x6 → 210 (passo 2)\n",
        "- 210 → 2x1x0 → 0 (passo 3)\n",
        "Portanto, a persistência multiplicativa do número 3497 é igual a 3, porque nós precisamos de três passos para chegar em um número de apenas um dígito — no caso, `0`."
      ],
      "metadata": {
        "id": "V61blGcpj8vw"
      }
    },
    {
      "cell_type": "code",
      "source": [],
      "metadata": {
        "id": "50nSGJ4zlKFS"
      },
      "execution_count": null,
      "outputs": []
    },
    {
      "cell_type": "markdown",
      "source": [
        "9. Faça um programa na qual o usuário digita um texto (e.g. seu nome) e o programa retorna uma imagem que mostra o número de vogais e o número de consoantes usando um gráfico de barras. Dica: pesquise `plt.bar()`."
      ],
      "metadata": {
        "id": "gCReMd7xj8xj"
      }
    },
    {
      "cell_type": "code",
      "source": [],
      "metadata": {
        "id": "gaWmTES-lKjo"
      },
      "execution_count": null,
      "outputs": []
    },
    {
      "cell_type": "markdown",
      "source": [
        "# Projetos para você fazer!"
      ],
      "metadata": {
        "id": "hvi_m58OkVvR"
      }
    },
    {
      "cell_type": "markdown",
      "source": [
        "1. Faça um programa no qual o usuário pode digitar qualquer frase e o programa devolve sua equivalente numérica, seguindo os valores abaixo:\n",
        "\n",
        "[Imagem de referência](https://imgur.com/a/HLRFpXQ)\n",
        "\n",
        "Por exemplo:\n",
        "- Para o `input` *Python*, a saída deve ser `16 25 20 8 15 14`\n",
        "- Para o `input`| *Eu, você\"!, a saída deve ser `5 21 , 22 15 3 5!`\n",
        "- Para o `input` *ã á à â A a*, a saída deve ser `1 1 1 1 1 1`\n",
        "\n",
        "Dica: Pesquise sobre a função `unidecode()` da biblioteca `unidecode` para lidar com caracteres especiais."
      ],
      "metadata": {
        "id": "L8aM6grikUo8"
      }
    },
    {
      "cell_type": "code",
      "source": [],
      "metadata": {
        "id": "5v7U9l8NlLJC"
      },
      "execution_count": null,
      "outputs": []
    },
    {
      "cell_type": "markdown",
      "source": [
        "2. Faça um jogo de pedra-papel-tesoura, em que você você joga contra o computador, e o vencedor é determinado em uma melhor de 5 (ou seja, quem vencer três partidas primeiro)."
      ],
      "metadata": {
        "id": "4zR4R9XUkgWs"
      }
    },
    {
      "cell_type": "code",
      "source": [],
      "metadata": {
        "id": "QBtSdhoylLkA"
      },
      "execution_count": null,
      "outputs": []
    },
    {
      "cell_type": "markdown",
      "source": [
        "3. Faça um jogo-da-velha usando Python."
      ],
      "metadata": {
        "id": "rpQGIjBalEJa"
      }
    },
    {
      "cell_type": "code",
      "source": [],
      "metadata": {
        "id": "X_g4JjpQlMCG"
      },
      "execution_count": null,
      "outputs": []
    }
  ]
}