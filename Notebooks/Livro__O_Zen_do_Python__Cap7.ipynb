{
  "nbformat": 4,
  "nbformat_minor": 0,
  "metadata": {
    "colab": {
      "provenance": []
    },
    "kernelspec": {
      "name": "python3",
      "display_name": "Python 3"
    },
    "language_info": {
      "name": "python"
    }
  },
  "cells": [
    {
      "cell_type": "markdown",
      "source": [
        "# Projetos\n",
        "1. Faça um jogo em que há um alvo no meio da janela e um retângulo fica se movendo rapidamente da esquerda para a direita. Quando o jogador aperta o botão espaço, o quadrado rápido para de se mover. Caso o jogador consiga parar o quadrado exatamente em cima do alvo, o jogo acaba e uma tela mostra qual foi o número de vezes que o jogador apertou a barra de espaço.\n"
      ],
      "metadata": {
        "id": "EDWc-vvVn_ej"
      }
    },
    {
      "cell_type": "code",
      "source": [],
      "metadata": {
        "id": "zgeTp7ppoE9z"
      },
      "execution_count": null,
      "outputs": []
    },
    {
      "cell_type": "markdown",
      "source": [
        "2. Faça um jogo de pong, porém com dois jogadores: um jogador da esquerda controla o retângulo usando as teclas w e s, o jogador da direita controla o retângulo usando as setas para cima e para baixo do teclado.\n"
      ],
      "metadata": {
        "id": "DhB6rzB3oBAW"
      }
    },
    {
      "cell_type": "code",
      "source": [],
      "metadata": {
        "id": "CXc9k0m0oFQq"
      },
      "execution_count": null,
      "outputs": []
    },
    {
      "cell_type": "markdown",
      "source": [
        "3. Faça um jogo de lights out: um quadrado pequeno aparece em uma posição aleatória e quando o usuário clica em cima dele, sua pontuação aumenta e um novo quadrado aparece. Existe um limite de tempo de 60 segundos, presente no canto superior direito, até a tela de game over aparecer.\n"
      ],
      "metadata": {
        "id": "rI5FgYFWoCMh"
      }
    },
    {
      "cell_type": "code",
      "source": [],
      "metadata": {
        "id": "qXiR37lwoFp3"
      },
      "execution_count": null,
      "outputs": []
    },
    {
      "cell_type": "markdown",
      "source": [
        "4. Faça um jogo cookie clicker: um retângulo grande está no centro da tela, e toda vez que o usuário aperta o quadrado, sua pontuação aumenta. Existe um limite de tempo de 15 segundos, presente no canto superior direito, até a tela de game over."
      ],
      "metadata": {
        "id": "uUJJ4TV-n_hS"
      }
    },
    {
      "cell_type": "code",
      "source": [],
      "metadata": {
        "id": "0COwSBSCoGEk"
      },
      "execution_count": null,
      "outputs": []
    }
  ]
}