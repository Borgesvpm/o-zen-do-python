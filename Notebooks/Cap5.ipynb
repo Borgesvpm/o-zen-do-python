{
  "nbformat": 4,
  "nbformat_minor": 0,
  "metadata": {
    "colab": {
      "provenance": []
    },
    "kernelspec": {
      "name": "python3",
      "display_name": "Python 3"
    },
    "language_info": {
      "name": "python"
    }
  },
  "cells": [
    {
      "cell_type": "markdown",
      "source": [
        "1. Faça uma função que imprima uma mensagem de boas-vindas com o nome fornecido pelo usuário (importante: passe o nome do usuário como argumento dentro da função)."
      ],
      "metadata": {
        "id": "Zzl0G9CZmET_"
      }
    },
    {
      "cell_type": "code",
      "source": [],
      "metadata": {
        "id": "FJojBA0TnF5Q"
      },
      "execution_count": null,
      "outputs": []
    },
    {
      "cell_type": "markdown",
      "source": [
        "2. Faça uma função que retorna a soma de três números fornecidos pelo usuário (importante: passe os três números como argumentos dentro da função)"
      ],
      "metadata": {
        "id": "6u2dY4ykmEWe"
      }
    },
    {
      "cell_type": "code",
      "source": [],
      "metadata": {
        "id": "JxUPZkZenGNF"
      },
      "execution_count": null,
      "outputs": []
    },
    {
      "cell_type": "markdown",
      "source": [
        "3. Faça uma função em que um número indeterminado de variáveis pode ser usado como entrada e retorna o menor valor de todos os argumentos."
      ],
      "metadata": {
        "id": "MTLdPSK9mEZI"
      }
    },
    {
      "cell_type": "code",
      "source": [],
      "metadata": {
        "id": "f_wYh16HnGjX"
      },
      "execution_count": null,
      "outputs": []
    },
    {
      "cell_type": "markdown",
      "source": [
        "4. Faça uma função que imprima uma mensagem de boas-vindas em um idioma. A entrada da função é o idioma da mensagem (o idioma padrão é português) e existem cinco opções de mensagem (português, inglês, alemão, holândes, francês)."
      ],
      "metadata": {
        "id": "BrWBakxHmEi4"
      }
    },
    {
      "cell_type": "code",
      "source": [],
      "metadata": {
        "id": "PWCi-dQDnG8c"
      },
      "execution_count": null,
      "outputs": []
    },
    {
      "cell_type": "markdown",
      "source": [
        "# Projetos para você fazer!"
      ],
      "metadata": {
        "id": "l4eMwonYmEla"
      }
    },
    {
      "cell_type": "markdown",
      "source": [
        "1. Faça um programa que calcule a área de uma forma geométrica regular dada pelo usuário. Na função, o usuário deve fornecer qual é a forma geométrica (triângulo, quadrado, pentágono...) e qual é o valor da aresta.\n",
        "\n",
        "Bônus: Deixe seu código mais robusto, fazendo checagens de tipo e verificando se o input do usuário é válido."
      ],
      "metadata": {
        "id": "mgFlaoq-mRN5"
      }
    },
    {
      "cell_type": "code",
      "source": [],
      "metadata": {
        "id": "Cx2hHHXdnHZX"
      },
      "execution_count": null,
      "outputs": []
    },
    {
      "cell_type": "markdown",
      "source": [
        "2. Reescreva um programa que você já fez (e.g. o jogo da velha do capítulo 4), dessa vez usando funções para deixar seu código mais limpo."
      ],
      "metadata": {
        "id": "v4aBLGipnEL8"
      }
    },
    {
      "cell_type": "code",
      "source": [],
      "metadata": {
        "id": "d2uPB6oBnHyE"
      },
      "execution_count": null,
      "outputs": []
    }
  ]
}