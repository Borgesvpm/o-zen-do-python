{
  "nbformat": 4,
  "nbformat_minor": 0,
  "metadata": {
    "colab": {
      "provenance": []
    },
    "kernelspec": {
      "name": "python3",
      "display_name": "Python 3"
    },
    "language_info": {
      "name": "python"
    }
  },
  "cells": [
    {
      "cell_type": "markdown",
      "source": [
        "1. Faça uma lista com 10 números e calcule sua média (use *soft-coding*)"
      ],
      "metadata": {
        "id": "BD_dn-asjMIb"
      }
    },
    {
      "cell_type": "code",
      "source": [],
      "metadata": {
        "id": "MT7hzU4SlP0J"
      },
      "execution_count": null,
      "outputs": []
    },
    {
      "cell_type": "markdown",
      "source": [
        "2. Faça um gráfico com as suas notas da escola/faculdade do último semestre."
      ],
      "metadata": {
        "id": "mGb0qZJIjMK8"
      }
    },
    {
      "cell_type": "code",
      "source": [],
      "metadata": {
        "id": "dSKm-tDhlQIQ"
      },
      "execution_count": null,
      "outputs": []
    },
    {
      "cell_type": "markdown",
      "source": [
        "3. Adicione 10 números aleatórios entre 1 e 10 no final dessa lista:\n",
        "\n",
        "```python\n",
        "lista = [4,2,5,1,2]\n",
        "```"
      ],
      "metadata": {
        "id": "ZKI5CfdQjMNY"
      }
    },
    {
      "cell_type": "code",
      "source": [],
      "metadata": {
        "id": "hMSNpvwGlQi0"
      },
      "execution_count": null,
      "outputs": []
    },
    {
      "cell_type": "markdown",
      "source": [
        "4. Gere uma lista com 500 números aleatórios entre 1 e 5. Remova todos os elementos iguais a 2 e imprima uma mensagem sobre quantos elementos sobraram. Por exemplo:\n",
        "```\n",
        "> \"sobraram 357 números de 500!\")\n",
        "```"
      ],
      "metadata": {
        "id": "sM9AJubIjMR6"
      }
    },
    {
      "cell_type": "code",
      "source": [],
      "metadata": {
        "id": "wZw2DNXnlRNJ"
      },
      "execution_count": null,
      "outputs": []
    },
    {
      "cell_type": "markdown",
      "source": [
        "5. A sequência de Fibonacci inicia-se com os números 1,1 – os próximos elementos são a soma dos dois elementos anteriores. Por exemplo, o terceiro elemento é 1+1=2 e o quarto elemento é 2+1 = 3. Calcule os 3 próximos números da sequência de Fibonacci usando a lista iniciada abaixo:\n",
        "```python\n",
        "fib = [1,1,2,3]\n",
        "```"
      ],
      "metadata": {
        "id": "CbKxZb9VjMUP"
      }
    },
    {
      "cell_type": "code",
      "source": [],
      "metadata": {
        "id": "sYMHTbjxlSTV"
      },
      "execution_count": null,
      "outputs": []
    },
    {
      "cell_type": "markdown",
      "source": [
        "# Projetos para você fazer!\n",
        "\n",
        "1) Faça um programa no qual o usuário digita uma palavra e o programa devolve o código morse equivalente a cada letra da palavra escolhida.\n",
        "\n",
        "Use o dicionário abaixo:\n",
        "\n",
        "\n",
        "``` python\n",
        "morse_dict =        { 'A':'.-', 'B':'-...',\n",
        "                    'C':'-.-.', 'D':'-..', 'E':'.',\n",
        "                    'F':'..-.', 'G':'--.', 'H':'....',\n",
        "                    'I':'..', 'J':'.---', 'K':'-.-',\n",
        "                    'L':'.-..', 'M':'--', 'N':'-.',\n",
        "                    'O':'---', 'P':'.--.', 'Q':'--.-',\n",
        "                    'R':'.-.', 'S':'...', 'T':'-',\n",
        "                    'U':'..-', 'V':'...-', 'W':'.--',\n",
        "                    'X':'-..-', 'Y':'-.--', 'Z':'--..'}\n",
        "```\n",
        "\n",
        "\n",
        "Bônus: demonstração de como seria o resultado caso você programasse uma lâmpada para dizer a palavra *SOS* – um código muito utilizado no contexto de resgastes e salvamentos."
      ],
      "metadata": {
        "id": "GrWctCkCjMWe"
      }
    },
    {
      "cell_type": "code",
      "source": [],
      "metadata": {
        "id": "rhJayw11lS-P"
      },
      "execution_count": null,
      "outputs": []
    }
  ]
}