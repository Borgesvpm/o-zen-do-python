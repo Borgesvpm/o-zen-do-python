{
  "nbformat": 4,
  "nbformat_minor": 0,
  "metadata": {
    "colab": {
      "provenance": []
    },
    "kernelspec": {
      "name": "python3",
      "display_name": "Python 3"
    },
    "language_info": {
      "name": "python"
    }
  },
  "cells": [
    {
      "cell_type": "markdown",
      "source": [
        "# Projetos"
      ],
      "metadata": {
        "id": "CIRNt4SOo3lP"
      }
    },
    {
      "cell_type": "markdown",
      "source": [
        "1. Faça um programa que digite a frase \"Hello World\" 100 vezes\n"
      ],
      "metadata": {
        "id": "PSKKKuQ4o2mK"
      }
    },
    {
      "cell_type": "code",
      "source": [],
      "metadata": {
        "id": "2SeoHQiSo9Uf"
      },
      "execution_count": null,
      "outputs": []
    },
    {
      "cell_type": "markdown",
      "source": [
        "2. Faça um programa que abre o Excel e digita os números de 1 a 100 em células diferentes\n"
      ],
      "metadata": {
        "id": "jnLIFvAuo2nx"
      }
    },
    {
      "cell_type": "code",
      "source": [],
      "metadata": {
        "id": "qTDmKPTuo9qw"
      },
      "execution_count": null,
      "outputs": []
    },
    {
      "cell_type": "markdown",
      "source": [
        "3. Faça um programa que clica em um pixel magenta na tela\n"
      ],
      "metadata": {
        "id": "KqE0B8Suo2p-"
      }
    },
    {
      "cell_type": "code",
      "source": [],
      "metadata": {
        "id": "C5Dmx7SYo-Kb"
      },
      "execution_count": null,
      "outputs": []
    },
    {
      "cell_type": "markdown",
      "source": [
        "4. Faça um programa que extraia uma informação de um vídeo ou de um jogo, utilizando a detecção de cor de um pixel específico."
      ],
      "metadata": {
        "id": "ZUdawsUTo2sK"
      }
    },
    {
      "cell_type": "code",
      "source": [],
      "metadata": {
        "id": "gyywHLqro-iq"
      },
      "execution_count": null,
      "outputs": []
    }
  ]
}