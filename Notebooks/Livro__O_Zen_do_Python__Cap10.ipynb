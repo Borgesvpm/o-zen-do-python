{
  "nbformat": 4,
  "nbformat_minor": 0,
  "metadata": {
    "colab": {
      "provenance": []
    },
    "kernelspec": {
      "name": "python3",
      "display_name": "Python 3"
    },
    "language_info": {
      "name": "python"
    }
  },
  "cells": [
    {
      "cell_type": "markdown",
      "source": [
        "1. Acesse a página http://books.toscrape.com/. Colete todos os preços de todos os livros e veja qual é o livro mais caro e o livro mais barato.\n"
      ],
      "metadata": {
        "id": "zFmZlgGjpXrl"
      }
    },
    {
      "cell_type": "code",
      "source": [],
      "metadata": {
        "id": "Awh4LcyqpgNg"
      },
      "execution_count": null,
      "outputs": []
    },
    {
      "cell_type": "markdown",
      "source": [
        "2. Na mesma página http://books.toscrape.com/, veja qual é a média de avaliações de todos os livros.\n"
      ],
      "metadata": {
        "id": "f8p_NE7-pXwk"
      }
    },
    {
      "cell_type": "code",
      "source": [],
      "metadata": {
        "id": "vC9xnsi-pgiP"
      },
      "execution_count": null,
      "outputs": []
    },
    {
      "cell_type": "markdown",
      "source": [
        "3. Na página http://quotes.toscrape.com/, verifique qual é a tag mais comum de todas as citações.\n"
      ],
      "metadata": {
        "id": "GjFe_CHgpXzE"
      }
    },
    {
      "cell_type": "code",
      "source": [],
      "metadata": {
        "id": "6Wcrc2Lqpg8X"
      },
      "execution_count": null,
      "outputs": []
    },
    {
      "cell_type": "markdown",
      "source": [
        "4. No mesmo site http://quotes.toscrape.com/, veja quais são as palavras mais frequentemente usadas entre todas as citações presentes.\n"
      ],
      "metadata": {
        "id": "h0SL2X1IpcfQ"
      }
    },
    {
      "cell_type": "code",
      "source": [],
      "metadata": {
        "id": "z7FXCthcphXQ"
      },
      "execution_count": null,
      "outputs": []
    },
    {
      "cell_type": "markdown",
      "source": [
        "5. No site https://finance.yahoo.com/trending-tickers, transforme os dados em uma tabela offline no formato .csv.\n"
      ],
      "metadata": {
        "id": "CmOBcwfPpdUO"
      }
    },
    {
      "cell_type": "code",
      "source": [],
      "metadata": {
        "id": "GLTzRGRQphxt"
      },
      "execution_count": null,
      "outputs": []
    },
    {
      "cell_type": "markdown",
      "source": [
        "6. Faça a análise das outras perguntas em cima dos dados sobre hockey, apresentados neste capítulo. Tente responder qual foi o time que mais fez e levou gols e qual foi o time que mais ganhou e perdeu, por temporada.\n"
      ],
      "metadata": {
        "id": "XUsHOP8HpeV3"
      }
    },
    {
      "cell_type": "code",
      "source": [],
      "metadata": {
        "id": "Ud_mEvd4piIE"
      },
      "execution_count": null,
      "outputs": []
    },
    {
      "cell_type": "markdown",
      "source": [
        "7. Acesse um site de seu interesse e colete dados que você gostaria de obter – lembre-se de verificar o robots.txt do site antes de fazer a sua coleta."
      ],
      "metadata": {
        "id": "MLwNlE9ZpfKQ"
      }
    },
    {
      "cell_type": "code",
      "source": [],
      "metadata": {
        "id": "Z0lsSLqrpih_"
      },
      "execution_count": null,
      "outputs": []
    }
  ]
}